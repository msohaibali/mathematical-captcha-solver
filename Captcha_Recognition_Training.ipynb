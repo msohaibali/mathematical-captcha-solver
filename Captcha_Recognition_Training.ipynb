{
  "nbformat": 4,
  "nbformat_minor": 0,
  "metadata": {
    "colab": {
      "name": "Captcha_Recognition_Training.ipynb",
      "provenance": [],
      "collapsed_sections": []
    },
    "kernelspec": {
      "name": "python3",
      "display_name": "Python 3"
    },
    "accelerator": "GPU",
    "gpuClass": "standard"
  },
  "cells": [
    {
      "cell_type": "code",
      "metadata": {
        "id": "t3FE_4sMAp6C",
        "colab": {
          "base_uri": "https://localhost:8080/"
        },
        "outputId": "0f7a8d50-5e5b-49a1-e13a-9735f67595c2"
      },
      "source": [
        "from google.colab import drive\n",
        "drive.mount('/content/drive', force_remount=True)"
      ],
      "execution_count": 1,
      "outputs": [
        {
          "output_type": "stream",
          "name": "stdout",
          "text": [
            "Mounted at /content/drive\n"
          ]
        }
      ]
    },
    {
      "cell_type": "code",
      "metadata": {
        "id": "8OiTr6Q8BJRY"
      },
      "source": [
        "#importing libraries\n",
        "import numpy as np \n",
        "\n",
        "%matplotlib inline \n",
        "#to use as command line calls #using inline graphs will come next to code\n",
        "\n",
        "import matplotlib.pyplot as plt #for graphs\n",
        "import os #for operating system dependent fucntionality\n",
        "from keras import layers #for building layers of neural net\n",
        "from keras.models import Model\n",
        "from keras.models import load_model\n",
        "from keras import callbacks #for training logs, saving to disk periodically\n",
        "import cv2 #OpenCV(Open Source computer vision lib), containg CV algos\n",
        "import string"
      ],
      "execution_count": 2,
      "outputs": []
    },
    {
      "cell_type": "code",
      "metadata": {
        "id": "zLmt4j-wDM6V",
        "colab": {
          "base_uri": "https://localhost:8080/"
        },
        "outputId": "869a70e3-7362-471f-8bdb-7ca5193e9871"
      },
      "source": [
        "#print images in dataset\n",
        "os.listdir(\"/content/drive/My Drive/all_captcha_images\")"
      ],
      "execution_count": 3,
      "outputs": [
        {
          "output_type": "execute_result",
          "data": {
            "text/plain": [
              "['3x1=j.jpg',\n",
              " '9x2=j.jpg',\n",
              " '1x1=j.jpg',\n",
              " '0+9=j.jpg',\n",
              " '4x5=j.jpg',\n",
              " '2-4=j.jpg',\n",
              " '7+5=j.jpg',\n",
              " '5-2=j.jpg',\n",
              " '9-2=j.jpg',\n",
              " '0x3=j.jpg',\n",
              " '5-1=j.jpg',\n",
              " '4+3=j.jpg',\n",
              " '6x1=j.jpg',\n",
              " '1x0=j.jpg',\n",
              " '2x4=j.jpg',\n",
              " '4x0=j.jpg',\n",
              " '5-3=j.jpg',\n",
              " '1+9=j.jpg',\n",
              " '7x6=j.jpg',\n",
              " '4-4=j.jpg',\n",
              " '4x7=j.jpg',\n",
              " '1x4=j.jpg',\n",
              " '4+0=j.jpg',\n",
              " '4-5=j.jpg',\n",
              " '0+0=j.jpg',\n",
              " '5-6=j.jpg',\n",
              " '2x9=j.jpg',\n",
              " '0x2=j.jpg',\n",
              " '3-2=j.jpg',\n",
              " '5-4=j.jpg',\n",
              " '0+1=j.jpg',\n",
              " '0+5=j.jpg',\n",
              " '6-4=j.jpg',\n",
              " '2-9=j.jpg',\n",
              " '3x9=j.jpg',\n",
              " '4x1=j.jpg',\n",
              " '5+3=j.jpg',\n",
              " '0+2=j.jpg',\n",
              " '2x0=j.jpg',\n",
              " '4+4=j.jpg',\n",
              " '5-0=j.jpg',\n",
              " '1-3=j.jpg',\n",
              " '4+5=j.jpg',\n",
              " '3+3=j.jpg',\n",
              " '6+1=j.jpg',\n",
              " '3x0=j.jpg',\n",
              " '6x9=j.jpg',\n",
              " '4x3=j.jpg',\n",
              " '2-6=j.jpg',\n",
              " '5x2=j.jpg',\n",
              " '4+1=j.jpg',\n",
              " '2x5=j.jpg',\n",
              " '0x9=j.jpg',\n",
              " '7x7=j.jpg',\n",
              " '2-2=j.jpg',\n",
              " '7x4=j.jpg',\n",
              " '0x7=j.jpg',\n",
              " '4x6=j.jpg',\n",
              " '1+2=j.jpg',\n",
              " '1-6=j.jpg',\n",
              " '9-5=j.jpg',\n",
              " '0-6=j.jpg',\n",
              " '4-6=j.jpg',\n",
              " '9-1=j.jpg',\n",
              " '5x0=j.jpg',\n",
              " '7x1=j.jpg',\n",
              " '9+1=j.jpg',\n",
              " '7x5=j.jpg',\n",
              " '7x0=j.jpg',\n",
              " '0-5=j.jpg',\n",
              " '6+9=j.jpg',\n",
              " '4-3=j.jpg',\n",
              " '4+2=j.jpg',\n",
              " '3+5=j.jpg',\n",
              " '7-1=j.jpg',\n",
              " '2x7=j.jpg',\n",
              " '6-9=j.jpg',\n",
              " '9x5=j.jpg',\n",
              " '9-4=j.jpg',\n",
              " '5x9=j.jpg',\n",
              " '4x9=j.jpg',\n",
              " '9-9=j.jpg',\n",
              " '6-7=j.jpg',\n",
              " '9+0=j.jpg',\n",
              " '7+3=j.jpg',\n",
              " '6x2=j.jpg',\n",
              " '4x2=j.jpg',\n",
              " '9x7=j.jpg',\n",
              " '2+3=j.jpg',\n",
              " '9+3=j.jpg',\n",
              " '3-0=j.jpg',\n",
              " '3+1=j.jpg',\n",
              " '6x6=j.jpg',\n",
              " '7+2=j.jpg',\n",
              " '0x1=j.jpg',\n",
              " '2+4=j.jpg',\n",
              " '5+2=j.jpg',\n",
              " '7-7=j.jpg',\n",
              " '5x5=j.jpg',\n",
              " '6-3=j.jpg',\n",
              " '2x3=j.jpg',\n",
              " '0-4=j.jpg',\n",
              " '5x6=j.jpg',\n",
              " '7x2=j.jpg',\n",
              " '1-9=j.jpg',\n",
              " '3x6=j.jpg',\n",
              " '3-7=j.jpg',\n",
              " '3x2=j.jpg',\n",
              " '5x1=j.jpg',\n",
              " '4-7=j.jpg',\n",
              " '1-0=j.jpg',\n",
              " '4-0=j.jpg',\n",
              " '0-2=j.jpg',\n",
              " '3-6=j.jpg',\n",
              " '0-1=j.jpg',\n",
              " '6+0=j.jpg',\n",
              " '7+9=j.jpg',\n",
              " '6+6=j.jpg',\n",
              " '7+4=j.jpg',\n",
              " '7-9=j.jpg',\n",
              " '5x3=j.jpg',\n",
              " '6-1=j.jpg',\n",
              " '5-9=j.jpg',\n",
              " '0x5=j.jpg',\n",
              " '2x1=j.jpg',\n",
              " '5+5=j.jpg',\n",
              " '0-9=j.jpg',\n",
              " '3+4=j.jpg',\n",
              " '0+7=j.jpg',\n",
              " '9-3=j.jpg',\n",
              " '5+1=j.jpg',\n",
              " '9-7=j.jpg',\n",
              " '1x2=j.jpg',\n",
              " '0x0=j.jpg',\n",
              " '2+9=j.jpg',\n",
              " '1x9=j.jpg',\n",
              " '0+4=j.jpg',\n",
              " '1-5=j.jpg',\n",
              " '7-2=j.jpg',\n",
              " '9+9=j.jpg',\n",
              " '1+3=j.jpg',\n",
              " '2-3=j.jpg',\n",
              " '9x6=j.jpg',\n",
              " '7-3=j.jpg',\n",
              " '6+3=j.jpg',\n",
              " '9x3=j.jpg',\n",
              " '1+0=j.jpg',\n",
              " '1+1=j.jpg',\n",
              " '5=j.jpg',\n",
              " '1x3=j.jpg',\n",
              " '2+1=j.jpg',\n",
              " '2-1=j.jpg',\n",
              " '9x0=j.jpg',\n",
              " '1-1=j.jpg',\n",
              " '9x1=j.jpg',\n",
              " '7-4=j.jpg',\n",
              " '1+7=j.jpg',\n",
              " '9+2=j.jpg',\n",
              " '9+5=j.jpg',\n",
              " '6+7=j.jpg',\n",
              " '5-7=j.jpg',\n",
              " '5+7=j.jpg',\n",
              " '9-6=j.jpg',\n",
              " '0+3=j.jpg',\n",
              " '5+6=j.jpg',\n",
              " '6x0=j.jpg',\n",
              " '2x2=j.jpg',\n",
              " '5+9=j.jpg',\n",
              " '1+5=j.jpg',\n",
              " '7+1=j.jpg',\n",
              " '3-1=j.jpg',\n",
              " '0-3=j.jpg',\n",
              " '6+2=j.jpg',\n",
              " '1+4=j.jpg',\n",
              " '1-7=j.jpg',\n",
              " '2+5=j.jpg',\n",
              " '6+4=j.jpg',\n",
              " '5-5=j.jpg',\n",
              " '9+7=j.jpg',\n",
              " '2+2=j.jpg',\n",
              " '7x3=j.jpg',\n",
              " '6x3=j.jpg',\n",
              " '6-2=j.jpg',\n",
              " '4+7=j.jpg',\n",
              " '2+7=j.jpg',\n",
              " '9-0=j.jpg',\n",
              " '7-5=j.jpg',\n",
              " '3-9=j.jpg',\n",
              " '4+6=j.jpg',\n",
              " '1x5=j.jpg',\n",
              " '3-4=j.jpg',\n",
              " '6-0=j.jpg',\n",
              " '6+5=j.jpg',\n",
              " '3+9=j.jpg',\n",
              " '6x4=j.jpg',\n",
              " '0x6=j.jpg',\n",
              " '7-6=j.jpg',\n",
              " '6x5=j.jpg',\n",
              " '7+0=j.jpg',\n",
              " '3+2=j.jpg',\n",
              " '7+6=j.jpg',\n",
              " '3x7=j.jpg',\n",
              " '0-0=j.jpg',\n",
              " '3+0=j.jpg',\n",
              " '1x6=j.jpg',\n",
              " '9+6=j.jpg',\n",
              " '0-7=j.jpg',\n",
              " '2-7=j.jpg',\n",
              " '3x4=j.jpg',\n",
              " '7x9=j.jpg',\n",
              " '3+7=j.jpg',\n",
              " '6-6=j.jpg',\n",
              " '9x9=j.jpg',\n",
              " '2+0=j.jpg',\n",
              " '4-2=j.jpg',\n",
              " '3x3=j.jpg',\n",
              " '6x7=j.jpg',\n",
              " '4-1=j.jpg',\n",
              " '2x6=j.jpg',\n",
              " '1+6=j.jpg',\n",
              " '3+6=j.jpg',\n",
              " '2-5=j.jpg',\n",
              " '6-5=j.jpg',\n",
              " '3-3=j.jpg',\n",
              " '0+6=j.jpg',\n",
              " '5+0=j.jpg',\n",
              " '7-0=j.jpg',\n",
              " '5x7=j.jpg',\n",
              " '1x7=j.jpg',\n",
              " '4x4=j.jpg',\n",
              " '4-9=j.jpg',\n",
              " '7+7=j.jpg',\n",
              " '3-5=j.jpg',\n",
              " '2+6=j.jpg',\n",
              " '2-0=j.jpg',\n",
              " '1-4=j.jpg',\n",
              " '4+9=j.jpg',\n",
              " '3x5=j.jpg',\n",
              " '0x4=j.jpg',\n",
              " '5x4=j.jpg',\n",
              " '9x4=j.jpg',\n",
              " '1-2=j.jpg',\n",
              " '9+4=j.jpg']"
            ]
          },
          "metadata": {},
          "execution_count": 3
        }
      ]
    },
    {
      "cell_type": "code",
      "metadata": {
        "id": "v8UYz7xlFPpv",
        "colab": {
          "base_uri": "https://localhost:8080/"
        },
        "outputId": "e23ffdce-01cd-49c2-b117-1881341c5a14"
      },
      "source": [
        "#total no of images in dataset\n",
        "n=len(os.listdir(\"/content/drive/My Drive/all_captcha_images\"))\n",
        "n"
      ],
      "execution_count": 4,
      "outputs": [
        {
          "output_type": "execute_result",
          "data": {
            "text/plain": [
              "243"
            ]
          },
          "metadata": {},
          "execution_count": 4
        }
      ]
    },
    {
      "cell_type": "code",
      "metadata": {
        "id": "sgxopRPsDftH"
      },
      "source": [
        "#defining size of image\n",
        "imgshape=(25,65,1) #25-height, 65-width, 1-no of channels"
      ],
      "execution_count": 5,
      "outputs": []
    },
    {
      "cell_type": "code",
      "metadata": {
        "id": "izYrJdMjD-sK",
        "colab": {
          "base_uri": "https://localhost:8080/"
        },
        "outputId": "799a15e1-a042-4a4c-ccd6-4f608e943361"
      },
      "source": [
        "character = \"012345679+-*=?\" # All symbols captcha can contain\n",
        "nchar = len(character) #total number of char possible\n",
        "nchar"
      ],
      "execution_count": 6,
      "outputs": [
        {
          "output_type": "execute_result",
          "data": {
            "text/plain": [
              "14"
            ]
          },
          "metadata": {},
          "execution_count": 6
        }
      ]
    },
    {
      "cell_type": "code",
      "metadata": {
        "id": "9-jPNkuLEW3m"
      },
      "source": [
        "#preprocesss image\n",
        "def preprocess():\n",
        "  X = np.zeros((n,25,65,1)) #243*25*65 array with all entries 0\n",
        "  y = np.zeros((5,n,nchar)) #5*243*14(5 letters in captcha) with all entries 0\n",
        "\n",
        "  for i, pic in enumerate(os.listdir(\"/content/drive/My Drive/all_captcha_images\")):\n",
        "  #i represents index no. of image in directory \n",
        "  #pic contains the file name of the particular image to be preprocessed at a time\n",
        "    \n",
        "    img = cv2.imread(os.path.join(\"/content/drive/My Drive/all_captcha_images\", pic), cv2.IMREAD_GRAYSCALE) #Read image in grayscale format\n",
        "    pic_target = pic[:-4]#this drops the .jpg extension from file name and contains only the captcha for training\n",
        "    \n",
        "    if len(pic_target) < 6: #captcha is not more than 5 letters\n",
        "      img = img / 255.0 #scales the image between 0 and 1\n",
        "      img = np.reshape(img, (25, 65, 1)) #reshapes image to width 65 , height 25 ,channel 1 \n",
        "\n",
        "      target=np.zeros((5,nchar)) #creates an array of size 5*14 with all entries 0, (5 is target chars, 14 is total labels)\n",
        "\n",
        "      for j, k in enumerate(pic_target):\n",
        "      #j iterates from 0 to 4(5 letters in captcha)\n",
        "      #k denotes the letter in captcha which is to be scanned\n",
        "         index = character.find(k) #index stores the position of letter k of captcha in the character string\n",
        "         target[j, index] = 1 #replaces 0 with 1 in the target array at the position of the letter in captcha\n",
        "\n",
        "      X[i] = img #stores all the images\n",
        "      y[:,i] = target #stores all the info about the letters in captcha of all images\n",
        "\n",
        "  return X,y"
      ],
      "execution_count": 7,
      "outputs": []
    },
    {
      "cell_type": "code",
      "metadata": {
        "id": "G_FgSkCGgFOg"
      },
      "source": [
        "#create model\n",
        "def createmodel():\n",
        "    img = layers.Input(shape=imgshape) # Get image as an input of size 25,65,1\n",
        "    conv1 = layers.Conv2D(16, (3, 3), padding='same', activation='relu')(img) #25*65\n",
        "    mp1 = layers.MaxPooling2D(padding='same')(conv1)  # 13*33\n",
        "    conv2 = layers.Conv2D(32, (3, 3), padding='same', activation='relu')(mp1)\n",
        "    mp2 = layers.MaxPooling2D(padding='same')(conv2)  # 7*17\n",
        "    conv3 = layers.Conv2D(32, (3, 3), padding='same', activation='relu')(mp2)\n",
        "    bn = layers.BatchNormalization()(conv3) #to improve the stability of model\n",
        "    mp3 = layers.MaxPooling2D(padding='same')(bn)  # 4*9\n",
        "    \n",
        "    flat = layers.Flatten()(mp3) #convert the layer into 1-D\n",
        "\n",
        "    outs = []\n",
        "    for _ in range(5): #for 5 letters of captcha\n",
        "        dens1 = layers.Dense(64, activation='relu')(flat)\n",
        "        drop = layers.Dropout(0.5)(dens1) #drops 0.5 fraction of nodes\n",
        "        res = layers.Dense(nchar, activation='sigmoid')(drop)\n",
        "\n",
        "        outs.append(res) #result of layers\n",
        "    \n",
        "    # Compile model and return it\n",
        "    model = Model(img, outs) #create model\n",
        "    model.compile(loss='categorical_crossentropy', optimizer='adam',metrics=[\"accuracy\"])\n",
        "    return model"
      ],
      "execution_count": 8,
      "outputs": []
    },
    {
      "cell_type": "code",
      "metadata": {
        "id": "Tjm8on4ihGpC",
        "colab": {
          "base_uri": "https://localhost:8080/"
        },
        "outputId": "5349ff5f-2561-4c91-d90d-b92f30de827d"
      },
      "source": [
        "#Create model\n",
        "model=createmodel();\n",
        "model.summary();"
      ],
      "execution_count": 9,
      "outputs": [
        {
          "output_type": "stream",
          "name": "stdout",
          "text": [
            "Model: \"model\"\n",
            "__________________________________________________________________________________________________\n",
            " Layer (type)                   Output Shape         Param #     Connected to                     \n",
            "==================================================================================================\n",
            " input_1 (InputLayer)           [(None, 25, 65, 1)]  0           []                               \n",
            "                                                                                                  \n",
            " conv2d (Conv2D)                (None, 25, 65, 16)   160         ['input_1[0][0]']                \n",
            "                                                                                                  \n",
            " max_pooling2d (MaxPooling2D)   (None, 13, 33, 16)   0           ['conv2d[0][0]']                 \n",
            "                                                                                                  \n",
            " conv2d_1 (Conv2D)              (None, 13, 33, 32)   4640        ['max_pooling2d[0][0]']          \n",
            "                                                                                                  \n",
            " max_pooling2d_1 (MaxPooling2D)  (None, 7, 17, 32)   0           ['conv2d_1[0][0]']               \n",
            "                                                                                                  \n",
            " conv2d_2 (Conv2D)              (None, 7, 17, 32)    9248        ['max_pooling2d_1[0][0]']        \n",
            "                                                                                                  \n",
            " batch_normalization (BatchNorm  (None, 7, 17, 32)   128         ['conv2d_2[0][0]']               \n",
            " alization)                                                                                       \n",
            "                                                                                                  \n",
            " max_pooling2d_2 (MaxPooling2D)  (None, 4, 9, 32)    0           ['batch_normalization[0][0]']    \n",
            "                                                                                                  \n",
            " flatten (Flatten)              (None, 1152)         0           ['max_pooling2d_2[0][0]']        \n",
            "                                                                                                  \n",
            " dense (Dense)                  (None, 64)           73792       ['flatten[0][0]']                \n",
            "                                                                                                  \n",
            " dense_2 (Dense)                (None, 64)           73792       ['flatten[0][0]']                \n",
            "                                                                                                  \n",
            " dense_4 (Dense)                (None, 64)           73792       ['flatten[0][0]']                \n",
            "                                                                                                  \n",
            " dense_6 (Dense)                (None, 64)           73792       ['flatten[0][0]']                \n",
            "                                                                                                  \n",
            " dense_8 (Dense)                (None, 64)           73792       ['flatten[0][0]']                \n",
            "                                                                                                  \n",
            " dropout (Dropout)              (None, 64)           0           ['dense[0][0]']                  \n",
            "                                                                                                  \n",
            " dropout_1 (Dropout)            (None, 64)           0           ['dense_2[0][0]']                \n",
            "                                                                                                  \n",
            " dropout_2 (Dropout)            (None, 64)           0           ['dense_4[0][0]']                \n",
            "                                                                                                  \n",
            " dropout_3 (Dropout)            (None, 64)           0           ['dense_6[0][0]']                \n",
            "                                                                                                  \n",
            " dropout_4 (Dropout)            (None, 64)           0           ['dense_8[0][0]']                \n",
            "                                                                                                  \n",
            " dense_1 (Dense)                (None, 14)           910         ['dropout[0][0]']                \n",
            "                                                                                                  \n",
            " dense_3 (Dense)                (None, 14)           910         ['dropout_1[0][0]']              \n",
            "                                                                                                  \n",
            " dense_5 (Dense)                (None, 14)           910         ['dropout_2[0][0]']              \n",
            "                                                                                                  \n",
            " dense_7 (Dense)                (None, 14)           910         ['dropout_3[0][0]']              \n",
            "                                                                                                  \n",
            " dense_9 (Dense)                (None, 14)           910         ['dropout_4[0][0]']              \n",
            "                                                                                                  \n",
            "==================================================================================================\n",
            "Total params: 387,686\n",
            "Trainable params: 387,622\n",
            "Non-trainable params: 64\n",
            "__________________________________________________________________________________________________\n"
          ]
        }
      ]
    },
    {
      "cell_type": "code",
      "metadata": {
        "id": "qvKEQddzbFLK"
      },
      "source": [
        "X,y=preprocess()"
      ],
      "execution_count": 10,
      "outputs": []
    },
    {
      "cell_type": "code",
      "metadata": {
        "id": "qj4xlGM1lEAU"
      },
      "source": [
        "# Instead of Splitting the Samples, into test/train I am using all the 243 images for testing and training,\n",
        "# because of very few Samples\n",
        "X_train, y_train = X, y\n",
        "X_test, y_test = X, y"
      ],
      "execution_count": 11,
      "outputs": []
    },
    {
      "cell_type": "code",
      "metadata": {
        "id": "qcjRu_HEmLRt",
        "colab": {
          "base_uri": "https://localhost:8080/"
        },
        "outputId": "ea1b60dd-c909-4704-cb95-680510e92747"
      },
      "source": [
        "#Applying the model\n",
        "hist = model.fit(X_train, [y_train[0], y_train[1], y_train[2], y_train[3], y_train[4]], batch_size=32, epochs=60, validation_split=0.2)\n",
        "#batch size- 32 defines no. of samples per gradient update\n",
        "#Validation split=0.2 splits the training set in 80-20% for training nd testing"
      ],
      "execution_count": 12,
      "outputs": [
        {
          "output_type": "stream",
          "name": "stdout",
          "text": [
            "Epoch 1/60\n",
            "7/7 [==============================] - 14s 128ms/step - loss: 9.1494 - dense_1_loss: 2.9162 - dense_3_loss: 1.9211 - dense_5_loss: 2.8132 - dense_7_loss: 0.4230 - dense_9_loss: 1.0758 - dense_1_accuracy: 0.0928 - dense_3_accuracy: 0.2526 - dense_5_accuracy: 0.0928 - dense_7_accuracy: 0.8969 - dense_9_accuracy: 0.7216 - val_loss: 10.9325 - val_dense_1_loss: 2.5777 - val_dense_3_loss: 2.3580 - val_dense_5_loss: 2.5803 - val_dense_7_loss: 1.6539 - val_dense_9_loss: 1.7626 - val_dense_1_accuracy: 0.1020 - val_dense_3_accuracy: 0.3061 - val_dense_5_accuracy: 0.1224 - val_dense_7_accuracy: 1.0000 - val_dense_9_accuracy: 1.0000\n",
            "Epoch 2/60\n",
            "7/7 [==============================] - 0s 13ms/step - loss: 6.9264 - dense_1_loss: 2.6541 - dense_3_loss: 1.5506 - dense_5_loss: 2.6729 - dense_7_loss: 0.0105 - dense_9_loss: 0.0383 - dense_1_accuracy: 0.1186 - dense_3_accuracy: 0.3866 - dense_5_accuracy: 0.1237 - dense_7_accuracy: 0.9948 - dense_9_accuracy: 0.9845 - val_loss: 10.1324 - val_dense_1_loss: 2.5833 - val_dense_3_loss: 2.2838 - val_dense_5_loss: 2.5858 - val_dense_7_loss: 1.2637 - val_dense_9_loss: 1.4158 - val_dense_1_accuracy: 0.1020 - val_dense_3_accuracy: 0.3061 - val_dense_5_accuracy: 0.1020 - val_dense_7_accuracy: 1.0000 - val_dense_9_accuracy: 1.0000\n",
            "Epoch 3/60\n",
            "7/7 [==============================] - 0s 13ms/step - loss: 6.7044 - dense_1_loss: 2.5514 - dense_3_loss: 1.5271 - dense_5_loss: 2.6093 - dense_7_loss: 0.0057 - dense_9_loss: 0.0109 - dense_1_accuracy: 0.1701 - dense_3_accuracy: 0.3351 - dense_5_accuracy: 0.1186 - dense_7_accuracy: 0.9948 - dense_9_accuracy: 0.9948 - val_loss: 9.9736 - val_dense_1_loss: 2.5844 - val_dense_3_loss: 2.2477 - val_dense_5_loss: 2.5834 - val_dense_7_loss: 1.2095 - val_dense_9_loss: 1.3487 - val_dense_1_accuracy: 0.1020 - val_dense_3_accuracy: 0.3061 - val_dense_5_accuracy: 0.2449 - val_dense_7_accuracy: 1.0000 - val_dense_9_accuracy: 1.0000\n",
            "Epoch 4/60\n",
            "7/7 [==============================] - 0s 15ms/step - loss: 6.4843 - dense_1_loss: 2.5756 - dense_3_loss: 1.4270 - dense_5_loss: 2.4690 - dense_7_loss: 0.0044 - dense_9_loss: 0.0083 - dense_1_accuracy: 0.0722 - dense_3_accuracy: 0.3660 - dense_5_accuracy: 0.1495 - dense_7_accuracy: 0.9948 - dense_9_accuracy: 0.9948 - val_loss: 10.0371 - val_dense_1_loss: 2.5838 - val_dense_3_loss: 2.2676 - val_dense_5_loss: 2.5771 - val_dense_7_loss: 1.2487 - val_dense_9_loss: 1.3598 - val_dense_1_accuracy: 0.1020 - val_dense_3_accuracy: 0.3061 - val_dense_5_accuracy: 0.2449 - val_dense_7_accuracy: 1.0000 - val_dense_9_accuracy: 1.0000\n",
            "Epoch 5/60\n",
            "7/7 [==============================] - 0s 13ms/step - loss: 6.3085 - dense_1_loss: 2.5187 - dense_3_loss: 1.2268 - dense_5_loss: 2.5529 - dense_7_loss: 0.0033 - dense_9_loss: 0.0068 - dense_1_accuracy: 0.0979 - dense_3_accuracy: 0.4536 - dense_5_accuracy: 0.0979 - dense_7_accuracy: 0.9948 - dense_9_accuracy: 0.9948 - val_loss: 10.1870 - val_dense_1_loss: 2.5853 - val_dense_3_loss: 2.2400 - val_dense_5_loss: 2.5836 - val_dense_7_loss: 1.3562 - val_dense_9_loss: 1.4219 - val_dense_1_accuracy: 0.1020 - val_dense_3_accuracy: 0.3265 - val_dense_5_accuracy: 0.1633 - val_dense_7_accuracy: 1.0000 - val_dense_9_accuracy: 1.0000\n",
            "Epoch 6/60\n",
            "7/7 [==============================] - 0s 14ms/step - loss: 6.2393 - dense_1_loss: 2.4539 - dense_3_loss: 1.2617 - dense_5_loss: 2.5034 - dense_7_loss: 0.0084 - dense_9_loss: 0.0120 - dense_1_accuracy: 0.1804 - dense_3_accuracy: 0.4639 - dense_5_accuracy: 0.1186 - dense_7_accuracy: 0.9948 - dense_9_accuracy: 0.9948 - val_loss: 10.2743 - val_dense_1_loss: 2.5761 - val_dense_3_loss: 2.2010 - val_dense_5_loss: 2.5867 - val_dense_7_loss: 1.4283 - val_dense_9_loss: 1.4821 - val_dense_1_accuracy: 0.1020 - val_dense_3_accuracy: 0.3265 - val_dense_5_accuracy: 0.2245 - val_dense_7_accuracy: 1.0000 - val_dense_9_accuracy: 1.0000\n",
            "Epoch 7/60\n",
            "7/7 [==============================] - 0s 15ms/step - loss: 6.0303 - dense_1_loss: 2.4502 - dense_3_loss: 1.0777 - dense_5_loss: 2.4711 - dense_7_loss: 0.0141 - dense_9_loss: 0.0172 - dense_1_accuracy: 0.1237 - dense_3_accuracy: 0.4742 - dense_5_accuracy: 0.0979 - dense_7_accuracy: 0.9897 - dense_9_accuracy: 0.9948 - val_loss: 10.5982 - val_dense_1_loss: 2.5633 - val_dense_3_loss: 2.2164 - val_dense_5_loss: 2.5914 - val_dense_7_loss: 1.6163 - val_dense_9_loss: 1.6107 - val_dense_1_accuracy: 0.1020 - val_dense_3_accuracy: 0.8571 - val_dense_5_accuracy: 0.2245 - val_dense_7_accuracy: 1.0000 - val_dense_9_accuracy: 1.0000\n",
            "Epoch 8/60\n",
            "7/7 [==============================] - 0s 13ms/step - loss: 5.9533 - dense_1_loss: 2.4335 - dense_3_loss: 1.0414 - dense_5_loss: 2.4481 - dense_7_loss: 0.0120 - dense_9_loss: 0.0184 - dense_1_accuracy: 0.1186 - dense_3_accuracy: 0.5567 - dense_5_accuracy: 0.1082 - dense_7_accuracy: 0.9948 - dense_9_accuracy: 0.9948 - val_loss: 10.3777 - val_dense_1_loss: 2.5587 - val_dense_3_loss: 2.2243 - val_dense_5_loss: 2.5808 - val_dense_7_loss: 1.5245 - val_dense_9_loss: 1.4893 - val_dense_1_accuracy: 0.1020 - val_dense_3_accuracy: 0.5306 - val_dense_5_accuracy: 0.0408 - val_dense_7_accuracy: 1.0000 - val_dense_9_accuracy: 1.0000\n",
            "Epoch 9/60\n",
            "7/7 [==============================] - 0s 13ms/step - loss: 5.6970 - dense_1_loss: 2.3638 - dense_3_loss: 0.9286 - dense_5_loss: 2.3857 - dense_7_loss: 0.0101 - dense_9_loss: 0.0088 - dense_1_accuracy: 0.1907 - dense_3_accuracy: 0.6186 - dense_5_accuracy: 0.1340 - dense_7_accuracy: 0.9948 - dense_9_accuracy: 0.9948 - val_loss: 10.4002 - val_dense_1_loss: 2.5627 - val_dense_3_loss: 2.2018 - val_dense_5_loss: 2.5706 - val_dense_7_loss: 1.5708 - val_dense_9_loss: 1.4942 - val_dense_1_accuracy: 0.2245 - val_dense_3_accuracy: 0.5306 - val_dense_5_accuracy: 0.1429 - val_dense_7_accuracy: 1.0000 - val_dense_9_accuracy: 1.0000\n",
            "Epoch 10/60\n",
            "7/7 [==============================] - 0s 13ms/step - loss: 5.6146 - dense_1_loss: 2.3944 - dense_3_loss: 0.8666 - dense_5_loss: 2.3310 - dense_7_loss: 0.0132 - dense_9_loss: 0.0095 - dense_1_accuracy: 0.1495 - dense_3_accuracy: 0.6495 - dense_5_accuracy: 0.1804 - dense_7_accuracy: 0.9948 - dense_9_accuracy: 0.9948 - val_loss: 10.6509 - val_dense_1_loss: 2.5707 - val_dense_3_loss: 2.1802 - val_dense_5_loss: 2.5807 - val_dense_7_loss: 1.7059 - val_dense_9_loss: 1.6135 - val_dense_1_accuracy: 0.1429 - val_dense_3_accuracy: 0.7551 - val_dense_5_accuracy: 0.1224 - val_dense_7_accuracy: 1.0000 - val_dense_9_accuracy: 1.0000\n",
            "Epoch 11/60\n",
            "7/7 [==============================] - 0s 14ms/step - loss: 5.4421 - dense_1_loss: 2.3902 - dense_3_loss: 0.7799 - dense_5_loss: 2.2527 - dense_7_loss: 0.0080 - dense_9_loss: 0.0113 - dense_1_accuracy: 0.1546 - dense_3_accuracy: 0.7113 - dense_5_accuracy: 0.2165 - dense_7_accuracy: 0.9948 - dense_9_accuracy: 0.9897 - val_loss: 10.7281 - val_dense_1_loss: 2.5691 - val_dense_3_loss: 2.1740 - val_dense_5_loss: 2.5738 - val_dense_7_loss: 1.7653 - val_dense_9_loss: 1.6458 - val_dense_1_accuracy: 0.1224 - val_dense_3_accuracy: 0.9184 - val_dense_5_accuracy: 0.0204 - val_dense_7_accuracy: 1.0000 - val_dense_9_accuracy: 1.0000\n",
            "Epoch 12/60\n",
            "7/7 [==============================] - 0s 13ms/step - loss: 5.4332 - dense_1_loss: 2.3598 - dense_3_loss: 0.7678 - dense_5_loss: 2.2944 - dense_7_loss: 0.0086 - dense_9_loss: 0.0026 - dense_1_accuracy: 0.1186 - dense_3_accuracy: 0.6959 - dense_5_accuracy: 0.2268 - dense_7_accuracy: 0.9948 - dense_9_accuracy: 0.9948 - val_loss: 10.3546 - val_dense_1_loss: 2.5571 - val_dense_3_loss: 2.1291 - val_dense_5_loss: 2.5659 - val_dense_7_loss: 1.5673 - val_dense_9_loss: 1.5353 - val_dense_1_accuracy: 0.1837 - val_dense_3_accuracy: 0.7347 - val_dense_5_accuracy: 0.0612 - val_dense_7_accuracy: 1.0000 - val_dense_9_accuracy: 1.0000\n",
            "Epoch 13/60\n",
            "7/7 [==============================] - 0s 13ms/step - loss: 5.1939 - dense_1_loss: 2.2696 - dense_3_loss: 0.6530 - dense_5_loss: 2.2562 - dense_7_loss: 0.0066 - dense_9_loss: 0.0086 - dense_1_accuracy: 0.1907 - dense_3_accuracy: 0.7938 - dense_5_accuracy: 0.2010 - dense_7_accuracy: 0.9948 - dense_9_accuracy: 0.9897 - val_loss: 10.4522 - val_dense_1_loss: 2.5461 - val_dense_3_loss: 2.1343 - val_dense_5_loss: 2.5553 - val_dense_7_loss: 1.5740 - val_dense_9_loss: 1.6425 - val_dense_1_accuracy: 0.2041 - val_dense_3_accuracy: 0.8980 - val_dense_5_accuracy: 0.1429 - val_dense_7_accuracy: 1.0000 - val_dense_9_accuracy: 1.0000\n",
            "Epoch 14/60\n",
            "7/7 [==============================] - 0s 17ms/step - loss: 5.0048 - dense_1_loss: 2.2423 - dense_3_loss: 0.5617 - dense_5_loss: 2.1893 - dense_7_loss: 0.0035 - dense_9_loss: 0.0080 - dense_1_accuracy: 0.2371 - dense_3_accuracy: 0.8196 - dense_5_accuracy: 0.2268 - dense_7_accuracy: 0.9948 - dense_9_accuracy: 0.9948 - val_loss: 10.5073 - val_dense_1_loss: 2.5461 - val_dense_3_loss: 2.0868 - val_dense_5_loss: 2.5508 - val_dense_7_loss: 1.6140 - val_dense_9_loss: 1.7096 - val_dense_1_accuracy: 0.1837 - val_dense_3_accuracy: 0.8980 - val_dense_5_accuracy: 0.0816 - val_dense_7_accuracy: 1.0000 - val_dense_9_accuracy: 1.0000\n",
            "Epoch 15/60\n",
            "7/7 [==============================] - 0s 23ms/step - loss: 5.0019 - dense_1_loss: 2.2281 - dense_3_loss: 0.5293 - dense_5_loss: 2.2283 - dense_7_loss: 0.0051 - dense_9_loss: 0.0111 - dense_1_accuracy: 0.2113 - dense_3_accuracy: 0.8402 - dense_5_accuracy: 0.1856 - dense_7_accuracy: 0.9948 - dense_9_accuracy: 0.9948 - val_loss: 10.6596 - val_dense_1_loss: 2.5467 - val_dense_3_loss: 2.0590 - val_dense_5_loss: 2.5401 - val_dense_7_loss: 1.7000 - val_dense_9_loss: 1.8138 - val_dense_1_accuracy: 0.1224 - val_dense_3_accuracy: 0.9184 - val_dense_5_accuracy: 0.1429 - val_dense_7_accuracy: 1.0000 - val_dense_9_accuracy: 1.0000\n",
            "Epoch 16/60\n",
            "7/7 [==============================] - 0s 15ms/step - loss: 4.8501 - dense_1_loss: 2.1772 - dense_3_loss: 0.5240 - dense_5_loss: 2.1317 - dense_7_loss: 0.0030 - dense_9_loss: 0.0142 - dense_1_accuracy: 0.1649 - dense_3_accuracy: 0.8247 - dense_5_accuracy: 0.2526 - dense_7_accuracy: 0.9948 - dense_9_accuracy: 0.9948 - val_loss: 10.4921 - val_dense_1_loss: 2.5390 - val_dense_3_loss: 2.0218 - val_dense_5_loss: 2.5464 - val_dense_7_loss: 1.6296 - val_dense_9_loss: 1.7553 - val_dense_1_accuracy: 0.3061 - val_dense_3_accuracy: 0.9592 - val_dense_5_accuracy: 0.0612 - val_dense_7_accuracy: 1.0000 - val_dense_9_accuracy: 1.0000\n",
            "Epoch 17/60\n",
            "7/7 [==============================] - 0s 13ms/step - loss: 4.6096 - dense_1_loss: 2.0703 - dense_3_loss: 0.4272 - dense_5_loss: 2.0957 - dense_7_loss: 0.0098 - dense_9_loss: 0.0066 - dense_1_accuracy: 0.2320 - dense_3_accuracy: 0.8763 - dense_5_accuracy: 0.2268 - dense_7_accuracy: 0.9948 - dense_9_accuracy: 0.9948 - val_loss: 10.0798 - val_dense_1_loss: 2.5302 - val_dense_3_loss: 1.9644 - val_dense_5_loss: 2.5539 - val_dense_7_loss: 1.4138 - val_dense_9_loss: 1.6175 - val_dense_1_accuracy: 0.2653 - val_dense_3_accuracy: 0.9592 - val_dense_5_accuracy: 0.0612 - val_dense_7_accuracy: 1.0000 - val_dense_9_accuracy: 1.0000\n",
            "Epoch 18/60\n",
            "7/7 [==============================] - 0s 15ms/step - loss: 4.6285 - dense_1_loss: 2.1139 - dense_3_loss: 0.3924 - dense_5_loss: 2.1098 - dense_7_loss: 0.0062 - dense_9_loss: 0.0062 - dense_1_accuracy: 0.2423 - dense_3_accuracy: 0.8660 - dense_5_accuracy: 0.2371 - dense_7_accuracy: 0.9948 - dense_9_accuracy: 0.9948 - val_loss: 10.3444 - val_dense_1_loss: 2.5147 - val_dense_3_loss: 2.0255 - val_dense_5_loss: 2.5555 - val_dense_7_loss: 1.4947 - val_dense_9_loss: 1.7539 - val_dense_1_accuracy: 0.2245 - val_dense_3_accuracy: 0.8980 - val_dense_5_accuracy: 0.0408 - val_dense_7_accuracy: 1.0000 - val_dense_9_accuracy: 1.0000\n",
            "Epoch 19/60\n",
            "7/7 [==============================] - 0s 13ms/step - loss: 4.4310 - dense_1_loss: 2.0369 - dense_3_loss: 0.3759 - dense_5_loss: 2.0054 - dense_7_loss: 9.4017e-04 - dense_9_loss: 0.0119 - dense_1_accuracy: 0.2526 - dense_3_accuracy: 0.8918 - dense_5_accuracy: 0.3093 - dense_7_accuracy: 0.9948 - dense_9_accuracy: 0.9948 - val_loss: 10.4557 - val_dense_1_loss: 2.5064 - val_dense_3_loss: 2.0170 - val_dense_5_loss: 2.5586 - val_dense_7_loss: 1.5461 - val_dense_9_loss: 1.8276 - val_dense_1_accuracy: 0.2653 - val_dense_3_accuracy: 0.8980 - val_dense_5_accuracy: 0.0816 - val_dense_7_accuracy: 1.0000 - val_dense_9_accuracy: 1.0000\n",
            "Epoch 20/60\n",
            "7/7 [==============================] - 0s 13ms/step - loss: 4.0584 - dense_1_loss: 1.8514 - dense_3_loss: 0.2982 - dense_5_loss: 1.9027 - dense_7_loss: 0.0011 - dense_9_loss: 0.0051 - dense_1_accuracy: 0.3041 - dense_3_accuracy: 0.9381 - dense_5_accuracy: 0.3247 - dense_7_accuracy: 0.9948 - dense_9_accuracy: 0.9948 - val_loss: 9.9635 - val_dense_1_loss: 2.4882 - val_dense_3_loss: 1.9242 - val_dense_5_loss: 2.5432 - val_dense_7_loss: 1.3714 - val_dense_9_loss: 1.6365 - val_dense_1_accuracy: 0.4082 - val_dense_3_accuracy: 0.9388 - val_dense_5_accuracy: 0.0816 - val_dense_7_accuracy: 1.0000 - val_dense_9_accuracy: 1.0000\n",
            "Epoch 21/60\n",
            "7/7 [==============================] - 0s 13ms/step - loss: 4.0836 - dense_1_loss: 1.9410 - dense_3_loss: 0.3148 - dense_5_loss: 1.8233 - dense_7_loss: 2.9312e-04 - dense_9_loss: 0.0042 - dense_1_accuracy: 0.3196 - dense_3_accuracy: 0.9227 - dense_5_accuracy: 0.3969 - dense_7_accuracy: 0.9948 - dense_9_accuracy: 0.9948 - val_loss: 10.1638 - val_dense_1_loss: 2.4906 - val_dense_3_loss: 1.9224 - val_dense_5_loss: 2.5362 - val_dense_7_loss: 1.5018 - val_dense_9_loss: 1.7127 - val_dense_1_accuracy: 0.2653 - val_dense_3_accuracy: 0.8980 - val_dense_5_accuracy: 0.1633 - val_dense_7_accuracy: 1.0000 - val_dense_9_accuracy: 1.0000\n",
            "Epoch 22/60\n",
            "7/7 [==============================] - 0s 13ms/step - loss: 3.7844 - dense_1_loss: 1.8161 - dense_3_loss: 0.2136 - dense_5_loss: 1.7464 - dense_7_loss: 0.0026 - dense_9_loss: 0.0056 - dense_1_accuracy: 0.3763 - dense_3_accuracy: 0.9536 - dense_5_accuracy: 0.3814 - dense_7_accuracy: 0.9948 - dense_9_accuracy: 0.9948 - val_loss: 10.3876 - val_dense_1_loss: 2.4799 - val_dense_3_loss: 1.9157 - val_dense_5_loss: 2.5231 - val_dense_7_loss: 1.6605 - val_dense_9_loss: 1.8083 - val_dense_1_accuracy: 0.3265 - val_dense_3_accuracy: 0.9796 - val_dense_5_accuracy: 0.0612 - val_dense_7_accuracy: 1.0000 - val_dense_9_accuracy: 1.0000\n",
            "Epoch 23/60\n",
            "7/7 [==============================] - 0s 13ms/step - loss: 3.8948 - dense_1_loss: 1.7830 - dense_3_loss: 0.2519 - dense_5_loss: 1.8531 - dense_7_loss: 0.0027 - dense_9_loss: 0.0041 - dense_1_accuracy: 0.4124 - dense_3_accuracy: 0.9330 - dense_5_accuracy: 0.3557 - dense_7_accuracy: 0.9948 - dense_9_accuracy: 0.9948 - val_loss: 10.2961 - val_dense_1_loss: 2.4673 - val_dense_3_loss: 1.9044 - val_dense_5_loss: 2.5064 - val_dense_7_loss: 1.6698 - val_dense_9_loss: 1.7482 - val_dense_1_accuracy: 0.4082 - val_dense_3_accuracy: 0.9184 - val_dense_5_accuracy: 0.1633 - val_dense_7_accuracy: 1.0000 - val_dense_9_accuracy: 1.0000\n",
            "Epoch 24/60\n",
            "7/7 [==============================] - 0s 15ms/step - loss: 3.6740 - dense_1_loss: 1.7684 - dense_3_loss: 0.2184 - dense_5_loss: 1.6837 - dense_7_loss: 0.0013 - dense_9_loss: 0.0021 - dense_1_accuracy: 0.3351 - dense_3_accuracy: 0.9433 - dense_5_accuracy: 0.4381 - dense_7_accuracy: 0.9948 - dense_9_accuracy: 0.9948 - val_loss: 10.0138 - val_dense_1_loss: 2.4685 - val_dense_3_loss: 1.8669 - val_dense_5_loss: 2.4892 - val_dense_7_loss: 1.5635 - val_dense_9_loss: 1.6258 - val_dense_1_accuracy: 0.3469 - val_dense_3_accuracy: 0.9184 - val_dense_5_accuracy: 0.2857 - val_dense_7_accuracy: 1.0000 - val_dense_9_accuracy: 1.0000\n",
            "Epoch 25/60\n",
            "7/7 [==============================] - 0s 13ms/step - loss: 3.5708 - dense_1_loss: 1.6264 - dense_3_loss: 0.3406 - dense_5_loss: 1.5984 - dense_7_loss: 0.0021 - dense_9_loss: 0.0033 - dense_1_accuracy: 0.4433 - dense_3_accuracy: 0.8763 - dense_5_accuracy: 0.4330 - dense_7_accuracy: 0.9948 - dense_9_accuracy: 0.9948 - val_loss: 9.6502 - val_dense_1_loss: 2.4350 - val_dense_3_loss: 1.8338 - val_dense_5_loss: 2.4808 - val_dense_7_loss: 1.3919 - val_dense_9_loss: 1.5087 - val_dense_1_accuracy: 0.3265 - val_dense_3_accuracy: 0.9796 - val_dense_5_accuracy: 0.1633 - val_dense_7_accuracy: 1.0000 - val_dense_9_accuracy: 1.0000\n",
            "Epoch 26/60\n",
            "7/7 [==============================] - 0s 14ms/step - loss: 3.3937 - dense_1_loss: 1.5368 - dense_3_loss: 0.2255 - dense_5_loss: 1.6241 - dense_7_loss: 0.0041 - dense_9_loss: 0.0032 - dense_1_accuracy: 0.4691 - dense_3_accuracy: 0.9536 - dense_5_accuracy: 0.4227 - dense_7_accuracy: 0.9948 - dense_9_accuracy: 0.9948 - val_loss: 9.8311 - val_dense_1_loss: 2.4158 - val_dense_3_loss: 1.8193 - val_dense_5_loss: 2.4542 - val_dense_7_loss: 1.5417 - val_dense_9_loss: 1.6001 - val_dense_1_accuracy: 0.3673 - val_dense_3_accuracy: 0.8776 - val_dense_5_accuracy: 0.3673 - val_dense_7_accuracy: 1.0000 - val_dense_9_accuracy: 1.0000\n",
            "Epoch 27/60\n",
            "7/7 [==============================] - 0s 14ms/step - loss: 3.0267 - dense_1_loss: 1.3670 - dense_3_loss: 0.2171 - dense_5_loss: 1.4385 - dense_7_loss: 0.0014 - dense_9_loss: 0.0027 - dense_1_accuracy: 0.5155 - dense_3_accuracy: 0.9433 - dense_5_accuracy: 0.5206 - dense_7_accuracy: 0.9948 - dense_9_accuracy: 0.9948 - val_loss: 9.1431 - val_dense_1_loss: 2.3575 - val_dense_3_loss: 1.6861 - val_dense_5_loss: 2.4327 - val_dense_7_loss: 1.3270 - val_dense_9_loss: 1.3398 - val_dense_1_accuracy: 0.3878 - val_dense_3_accuracy: 0.9592 - val_dense_5_accuracy: 0.3061 - val_dense_7_accuracy: 1.0000 - val_dense_9_accuracy: 1.0000\n",
            "Epoch 28/60\n",
            "7/7 [==============================] - 0s 15ms/step - loss: 2.9231 - dense_1_loss: 1.4152 - dense_3_loss: 0.1545 - dense_5_loss: 1.3507 - dense_7_loss: 9.5466e-04 - dense_9_loss: 0.0018 - dense_1_accuracy: 0.4175 - dense_3_accuracy: 0.9691 - dense_5_accuracy: 0.5052 - dense_7_accuracy: 0.9948 - dense_9_accuracy: 0.9948 - val_loss: 8.4449 - val_dense_1_loss: 2.3748 - val_dense_3_loss: 1.5401 - val_dense_5_loss: 2.4285 - val_dense_7_loss: 1.0769 - val_dense_9_loss: 1.0245 - val_dense_1_accuracy: 0.6327 - val_dense_3_accuracy: 0.9592 - val_dense_5_accuracy: 0.3265 - val_dense_7_accuracy: 1.0000 - val_dense_9_accuracy: 1.0000\n",
            "Epoch 29/60\n",
            "7/7 [==============================] - 0s 15ms/step - loss: 2.6706 - dense_1_loss: 1.2321 - dense_3_loss: 0.1520 - dense_5_loss: 1.2857 - dense_7_loss: 5.8990e-04 - dense_9_loss: 2.1896e-04 - dense_1_accuracy: 0.6289 - dense_3_accuracy: 0.9639 - dense_5_accuracy: 0.5103 - dense_7_accuracy: 0.9948 - dense_9_accuracy: 0.9948 - val_loss: 8.2137 - val_dense_1_loss: 2.3429 - val_dense_3_loss: 1.4697 - val_dense_5_loss: 2.3806 - val_dense_7_loss: 1.0363 - val_dense_9_loss: 0.9842 - val_dense_1_accuracy: 0.6122 - val_dense_3_accuracy: 0.9592 - val_dense_5_accuracy: 0.5306 - val_dense_7_accuracy: 1.0000 - val_dense_9_accuracy: 1.0000\n",
            "Epoch 30/60\n",
            "7/7 [==============================] - 0s 14ms/step - loss: 2.4604 - dense_1_loss: 1.1783 - dense_3_loss: 0.1225 - dense_5_loss: 1.1562 - dense_7_loss: 2.4408e-04 - dense_9_loss: 0.0032 - dense_1_accuracy: 0.6031 - dense_3_accuracy: 0.9639 - dense_5_accuracy: 0.6082 - dense_7_accuracy: 0.9948 - dense_9_accuracy: 0.9948 - val_loss: 8.6584 - val_dense_1_loss: 2.3157 - val_dense_3_loss: 1.5631 - val_dense_5_loss: 2.3579 - val_dense_7_loss: 1.2211 - val_dense_9_loss: 1.2006 - val_dense_1_accuracy: 0.5306 - val_dense_3_accuracy: 0.9592 - val_dense_5_accuracy: 0.5510 - val_dense_7_accuracy: 1.0000 - val_dense_9_accuracy: 1.0000\n",
            "Epoch 31/60\n",
            "7/7 [==============================] - 0s 13ms/step - loss: 2.3190 - dense_1_loss: 1.0967 - dense_3_loss: 0.1329 - dense_5_loss: 1.0860 - dense_7_loss: 5.5543e-04 - dense_9_loss: 0.0028 - dense_1_accuracy: 0.6289 - dense_3_accuracy: 0.9588 - dense_5_accuracy: 0.6495 - dense_7_accuracy: 0.9948 - dense_9_accuracy: 0.9948 - val_loss: 8.5201 - val_dense_1_loss: 2.2884 - val_dense_3_loss: 1.5375 - val_dense_5_loss: 2.3409 - val_dense_7_loss: 1.1884 - val_dense_9_loss: 1.1650 - val_dense_1_accuracy: 0.5102 - val_dense_3_accuracy: 0.9592 - val_dense_5_accuracy: 0.5102 - val_dense_7_accuracy: 1.0000 - val_dense_9_accuracy: 1.0000\n",
            "Epoch 32/60\n",
            "7/7 [==============================] - 0s 15ms/step - loss: 2.0980 - dense_1_loss: 1.0209 - dense_3_loss: 0.0958 - dense_5_loss: 0.9763 - dense_7_loss: 0.0024 - dense_9_loss: 0.0026 - dense_1_accuracy: 0.6546 - dense_3_accuracy: 0.9742 - dense_5_accuracy: 0.6907 - dense_7_accuracy: 0.9948 - dense_9_accuracy: 0.9948 - val_loss: 7.3895 - val_dense_1_loss: 2.2261 - val_dense_3_loss: 1.3839 - val_dense_5_loss: 2.2679 - val_dense_7_loss: 0.7730 - val_dense_9_loss: 0.7386 - val_dense_1_accuracy: 0.5510 - val_dense_3_accuracy: 0.9592 - val_dense_5_accuracy: 0.6122 - val_dense_7_accuracy: 1.0000 - val_dense_9_accuracy: 1.0000\n",
            "Epoch 33/60\n",
            "7/7 [==============================] - 0s 15ms/step - loss: 1.9765 - dense_1_loss: 1.0382 - dense_3_loss: 0.0776 - dense_5_loss: 0.8589 - dense_7_loss: 0.0014 - dense_9_loss: 3.9208e-04 - dense_1_accuracy: 0.6082 - dense_3_accuracy: 0.9845 - dense_5_accuracy: 0.7577 - dense_7_accuracy: 0.9948 - dense_9_accuracy: 0.9948 - val_loss: 6.9934 - val_dense_1_loss: 2.1835 - val_dense_3_loss: 1.2607 - val_dense_5_loss: 2.2129 - val_dense_7_loss: 0.6590 - val_dense_9_loss: 0.6772 - val_dense_1_accuracy: 0.4898 - val_dense_3_accuracy: 0.9796 - val_dense_5_accuracy: 0.6735 - val_dense_7_accuracy: 1.0000 - val_dense_9_accuracy: 1.0000\n",
            "Epoch 34/60\n",
            "7/7 [==============================] - 0s 15ms/step - loss: 1.9874 - dense_1_loss: 1.0507 - dense_3_loss: 0.0908 - dense_5_loss: 0.8450 - dense_7_loss: 2.8433e-04 - dense_9_loss: 4.6056e-04 - dense_1_accuracy: 0.6495 - dense_3_accuracy: 0.9691 - dense_5_accuracy: 0.7320 - dense_7_accuracy: 0.9948 - dense_9_accuracy: 0.9948 - val_loss: 7.9207 - val_dense_1_loss: 2.2099 - val_dense_3_loss: 1.3989 - val_dense_5_loss: 2.2279 - val_dense_7_loss: 1.0183 - val_dense_9_loss: 1.0657 - val_dense_1_accuracy: 0.4694 - val_dense_3_accuracy: 0.9796 - val_dense_5_accuracy: 0.5918 - val_dense_7_accuracy: 1.0000 - val_dense_9_accuracy: 1.0000\n",
            "Epoch 35/60\n",
            "7/7 [==============================] - 0s 15ms/step - loss: 1.6241 - dense_1_loss: 0.7972 - dense_3_loss: 0.0938 - dense_5_loss: 0.7306 - dense_7_loss: 0.0015 - dense_9_loss: 9.5606e-04 - dense_1_accuracy: 0.7784 - dense_3_accuracy: 0.9897 - dense_5_accuracy: 0.7423 - dense_7_accuracy: 0.9948 - dense_9_accuracy: 0.9948 - val_loss: 7.0152 - val_dense_1_loss: 2.0957 - val_dense_3_loss: 1.2345 - val_dense_5_loss: 2.1246 - val_dense_7_loss: 0.7742 - val_dense_9_loss: 0.7863 - val_dense_1_accuracy: 0.5918 - val_dense_3_accuracy: 0.9796 - val_dense_5_accuracy: 0.6939 - val_dense_7_accuracy: 1.0000 - val_dense_9_accuracy: 1.0000\n",
            "Epoch 36/60\n",
            "7/7 [==============================] - 0s 13ms/step - loss: 1.5852 - dense_1_loss: 0.7721 - dense_3_loss: 0.0919 - dense_5_loss: 0.7189 - dense_7_loss: 9.5798e-04 - dense_9_loss: 0.0014 - dense_1_accuracy: 0.7165 - dense_3_accuracy: 0.9588 - dense_5_accuracy: 0.7938 - dense_7_accuracy: 0.9948 - dense_9_accuracy: 0.9948 - val_loss: 6.5242 - val_dense_1_loss: 2.0160 - val_dense_3_loss: 1.1131 - val_dense_5_loss: 2.0745 - val_dense_7_loss: 0.6413 - val_dense_9_loss: 0.6793 - val_dense_1_accuracy: 0.6327 - val_dense_3_accuracy: 0.9388 - val_dense_5_accuracy: 0.6531 - val_dense_7_accuracy: 1.0000 - val_dense_9_accuracy: 1.0000\n",
            "Epoch 37/60\n",
            "7/7 [==============================] - 0s 13ms/step - loss: 1.4119 - dense_1_loss: 0.6693 - dense_3_loss: 0.0780 - dense_5_loss: 0.6623 - dense_7_loss: 5.1231e-04 - dense_9_loss: 0.0017 - dense_1_accuracy: 0.7887 - dense_3_accuracy: 0.9845 - dense_5_accuracy: 0.7732 - dense_7_accuracy: 0.9948 - dense_9_accuracy: 0.9948 - val_loss: 6.4957 - val_dense_1_loss: 2.0296 - val_dense_3_loss: 1.0859 - val_dense_5_loss: 2.0553 - val_dense_7_loss: 0.6377 - val_dense_9_loss: 0.6873 - val_dense_1_accuracy: 0.6531 - val_dense_3_accuracy: 0.9592 - val_dense_5_accuracy: 0.6327 - val_dense_7_accuracy: 1.0000 - val_dense_9_accuracy: 1.0000\n",
            "Epoch 38/60\n",
            "7/7 [==============================] - 0s 14ms/step - loss: 1.4365 - dense_1_loss: 0.6492 - dense_3_loss: 0.0819 - dense_5_loss: 0.7043 - dense_7_loss: 8.5404e-04 - dense_9_loss: 2.2746e-04 - dense_1_accuracy: 0.7835 - dense_3_accuracy: 0.9742 - dense_5_accuracy: 0.7526 - dense_7_accuracy: 0.9948 - dense_9_accuracy: 0.9948 - val_loss: 5.7413 - val_dense_1_loss: 1.9384 - val_dense_3_loss: 0.9414 - val_dense_5_loss: 2.0160 - val_dense_7_loss: 0.3854 - val_dense_9_loss: 0.4601 - val_dense_1_accuracy: 0.6122 - val_dense_3_accuracy: 0.9796 - val_dense_5_accuracy: 0.6735 - val_dense_7_accuracy: 1.0000 - val_dense_9_accuracy: 1.0000\n",
            "Epoch 39/60\n",
            "7/7 [==============================] - 0s 14ms/step - loss: 1.3946 - dense_1_loss: 0.5857 - dense_3_loss: 0.0857 - dense_5_loss: 0.7219 - dense_7_loss: 9.4895e-04 - dense_9_loss: 3.5633e-04 - dense_1_accuracy: 0.7887 - dense_3_accuracy: 0.9742 - dense_5_accuracy: 0.7010 - dense_7_accuracy: 0.9948 - dense_9_accuracy: 0.9948 - val_loss: 5.3474 - val_dense_1_loss: 1.8662 - val_dense_3_loss: 0.8678 - val_dense_5_loss: 2.0059 - val_dense_7_loss: 0.2492 - val_dense_9_loss: 0.3583 - val_dense_1_accuracy: 0.6122 - val_dense_3_accuracy: 1.0000 - val_dense_5_accuracy: 0.6327 - val_dense_7_accuracy: 1.0000 - val_dense_9_accuracy: 1.0000\n",
            "Epoch 40/60\n",
            "7/7 [==============================] - 0s 15ms/step - loss: 1.3662 - dense_1_loss: 0.7112 - dense_3_loss: 0.0456 - dense_5_loss: 0.6078 - dense_7_loss: 1.0931e-04 - dense_9_loss: 0.0016 - dense_1_accuracy: 0.7474 - dense_3_accuracy: 0.9948 - dense_5_accuracy: 0.8093 - dense_7_accuracy: 0.9948 - dense_9_accuracy: 0.9948 - val_loss: 6.0823 - val_dense_1_loss: 1.9344 - val_dense_3_loss: 0.9972 - val_dense_5_loss: 2.0721 - val_dense_7_loss: 0.4502 - val_dense_9_loss: 0.6284 - val_dense_1_accuracy: 0.5918 - val_dense_3_accuracy: 0.9184 - val_dense_5_accuracy: 0.6531 - val_dense_7_accuracy: 1.0000 - val_dense_9_accuracy: 1.0000\n",
            "Epoch 41/60\n",
            "7/7 [==============================] - 0s 15ms/step - loss: 1.1671 - dense_1_loss: 0.5757 - dense_3_loss: 0.0672 - dense_5_loss: 0.5219 - dense_7_loss: 4.8104e-05 - dense_9_loss: 0.0022 - dense_1_accuracy: 0.8351 - dense_3_accuracy: 0.9845 - dense_5_accuracy: 0.8402 - dense_7_accuracy: 0.9948 - dense_9_accuracy: 0.9948 - val_loss: 4.8941 - val_dense_1_loss: 1.8216 - val_dense_3_loss: 0.7449 - val_dense_5_loss: 1.9209 - val_dense_7_loss: 0.1508 - val_dense_9_loss: 0.2558 - val_dense_1_accuracy: 0.7551 - val_dense_3_accuracy: 0.9592 - val_dense_5_accuracy: 0.7143 - val_dense_7_accuracy: 1.0000 - val_dense_9_accuracy: 1.0000\n",
            "Epoch 42/60\n",
            "7/7 [==============================] - 0s 15ms/step - loss: 1.0649 - dense_1_loss: 0.5542 - dense_3_loss: 0.0671 - dense_5_loss: 0.4423 - dense_7_loss: 9.5994e-04 - dense_9_loss: 2.4363e-04 - dense_1_accuracy: 0.8093 - dense_3_accuracy: 0.9845 - dense_5_accuracy: 0.9021 - dense_7_accuracy: 0.9948 - dense_9_accuracy: 0.9948 - val_loss: 4.4132 - val_dense_1_loss: 1.7238 - val_dense_3_loss: 0.6555 - val_dense_5_loss: 1.7464 - val_dense_7_loss: 0.1038 - val_dense_9_loss: 0.1837 - val_dense_1_accuracy: 0.7551 - val_dense_3_accuracy: 0.9592 - val_dense_5_accuracy: 0.7959 - val_dense_7_accuracy: 1.0000 - val_dense_9_accuracy: 1.0000\n",
            "Epoch 43/60\n",
            "7/7 [==============================] - 0s 15ms/step - loss: 0.9042 - dense_1_loss: 0.4731 - dense_3_loss: 0.0390 - dense_5_loss: 0.3918 - dense_7_loss: 1.9635e-04 - dense_9_loss: 8.2124e-05 - dense_1_accuracy: 0.8351 - dense_3_accuracy: 0.9948 - dense_5_accuracy: 0.8660 - dense_7_accuracy: 0.9948 - dense_9_accuracy: 0.9948 - val_loss: 4.4277 - val_dense_1_loss: 1.6827 - val_dense_3_loss: 0.6488 - val_dense_5_loss: 1.7044 - val_dense_7_loss: 0.1507 - val_dense_9_loss: 0.2412 - val_dense_1_accuracy: 0.6122 - val_dense_3_accuracy: 0.9796 - val_dense_5_accuracy: 0.7347 - val_dense_7_accuracy: 1.0000 - val_dense_9_accuracy: 1.0000\n",
            "Epoch 44/60\n",
            "7/7 [==============================] - 0s 16ms/step - loss: 0.8298 - dense_1_loss: 0.4382 - dense_3_loss: 0.0315 - dense_5_loss: 0.3578 - dense_7_loss: 0.0015 - dense_9_loss: 8.7282e-04 - dense_1_accuracy: 0.8505 - dense_3_accuracy: 0.9948 - dense_5_accuracy: 0.8608 - dense_7_accuracy: 0.9948 - dense_9_accuracy: 0.9948 - val_loss: 4.2410 - val_dense_1_loss: 1.6451 - val_dense_3_loss: 0.5903 - val_dense_5_loss: 1.7224 - val_dense_7_loss: 0.1041 - val_dense_9_loss: 0.1790 - val_dense_1_accuracy: 0.7143 - val_dense_3_accuracy: 1.0000 - val_dense_5_accuracy: 0.7143 - val_dense_7_accuracy: 1.0000 - val_dense_9_accuracy: 1.0000\n",
            "Epoch 45/60\n",
            "7/7 [==============================] - 0s 17ms/step - loss: 0.8025 - dense_1_loss: 0.4529 - dense_3_loss: 0.0325 - dense_5_loss: 0.3163 - dense_7_loss: 5.9866e-05 - dense_9_loss: 8.5328e-04 - dense_1_accuracy: 0.8454 - dense_3_accuracy: 0.9897 - dense_5_accuracy: 0.8918 - dense_7_accuracy: 0.9948 - dense_9_accuracy: 0.9948 - val_loss: 4.1271 - val_dense_1_loss: 1.5689 - val_dense_3_loss: 0.5999 - val_dense_5_loss: 1.6963 - val_dense_7_loss: 0.0836 - val_dense_9_loss: 0.1784 - val_dense_1_accuracy: 0.6939 - val_dense_3_accuracy: 0.9796 - val_dense_5_accuracy: 0.7143 - val_dense_7_accuracy: 1.0000 - val_dense_9_accuracy: 1.0000\n",
            "Epoch 46/60\n",
            "7/7 [==============================] - 0s 14ms/step - loss: 0.7980 - dense_1_loss: 0.3966 - dense_3_loss: 0.0465 - dense_5_loss: 0.3547 - dense_7_loss: 8.4472e-05 - dense_9_loss: 1.6100e-04 - dense_1_accuracy: 0.8660 - dense_3_accuracy: 0.9897 - dense_5_accuracy: 0.8763 - dense_7_accuracy: 0.9948 - dense_9_accuracy: 0.9948 - val_loss: 4.0522 - val_dense_1_loss: 1.5313 - val_dense_3_loss: 0.6210 - val_dense_5_loss: 1.6639 - val_dense_7_loss: 0.0689 - val_dense_9_loss: 0.1671 - val_dense_1_accuracy: 0.6122 - val_dense_3_accuracy: 0.9592 - val_dense_5_accuracy: 0.6735 - val_dense_7_accuracy: 1.0000 - val_dense_9_accuracy: 1.0000\n",
            "Epoch 47/60\n",
            "7/7 [==============================] - 0s 13ms/step - loss: 0.8828 - dense_1_loss: 0.3704 - dense_3_loss: 0.0470 - dense_5_loss: 0.4650 - dense_7_loss: 1.7024e-04 - dense_9_loss: 2.7022e-04 - dense_1_accuracy: 0.8660 - dense_3_accuracy: 0.9897 - dense_5_accuracy: 0.8557 - dense_7_accuracy: 0.9948 - dense_9_accuracy: 0.9948 - val_loss: 3.6222 - val_dense_1_loss: 1.4273 - val_dense_3_loss: 0.4719 - val_dense_5_loss: 1.5390 - val_dense_7_loss: 0.0478 - val_dense_9_loss: 0.1362 - val_dense_1_accuracy: 0.8163 - val_dense_3_accuracy: 0.9796 - val_dense_5_accuracy: 0.7755 - val_dense_7_accuracy: 1.0000 - val_dense_9_accuracy: 1.0000\n",
            "Epoch 48/60\n",
            "7/7 [==============================] - 0s 14ms/step - loss: 0.7517 - dense_1_loss: 0.3117 - dense_3_loss: 0.0446 - dense_5_loss: 0.3946 - dense_7_loss: 5.9950e-04 - dense_9_loss: 1.3485e-04 - dense_1_accuracy: 0.8969 - dense_3_accuracy: 0.9897 - dense_5_accuracy: 0.8711 - dense_7_accuracy: 0.9948 - dense_9_accuracy: 0.9948 - val_loss: 3.4028 - val_dense_1_loss: 1.3583 - val_dense_3_loss: 0.3914 - val_dense_5_loss: 1.5124 - val_dense_7_loss: 0.0281 - val_dense_9_loss: 0.1125 - val_dense_1_accuracy: 0.8571 - val_dense_3_accuracy: 1.0000 - val_dense_5_accuracy: 0.7551 - val_dense_7_accuracy: 1.0000 - val_dense_9_accuracy: 1.0000\n",
            "Epoch 49/60\n",
            "7/7 [==============================] - 0s 17ms/step - loss: 0.6633 - dense_1_loss: 0.3012 - dense_3_loss: 0.0335 - dense_5_loss: 0.3275 - dense_7_loss: 6.5015e-04 - dense_9_loss: 4.5251e-04 - dense_1_accuracy: 0.8918 - dense_3_accuracy: 0.9948 - dense_5_accuracy: 0.9021 - dense_7_accuracy: 0.9948 - dense_9_accuracy: 0.9948 - val_loss: 3.4184 - val_dense_1_loss: 1.2998 - val_dense_3_loss: 0.3898 - val_dense_5_loss: 1.5136 - val_dense_7_loss: 0.0568 - val_dense_9_loss: 0.1584 - val_dense_1_accuracy: 0.8571 - val_dense_3_accuracy: 1.0000 - val_dense_5_accuracy: 0.8163 - val_dense_7_accuracy: 1.0000 - val_dense_9_accuracy: 1.0000\n",
            "Epoch 50/60\n",
            "7/7 [==============================] - 0s 15ms/step - loss: 0.6059 - dense_1_loss: 0.3110 - dense_3_loss: 0.0204 - dense_5_loss: 0.2723 - dense_7_loss: 5.3335e-04 - dense_9_loss: 0.0017 - dense_1_accuracy: 0.9021 - dense_3_accuracy: 0.9948 - dense_5_accuracy: 0.9227 - dense_7_accuracy: 0.9948 - dense_9_accuracy: 0.9948 - val_loss: 3.3839 - val_dense_1_loss: 1.2941 - val_dense_3_loss: 0.3842 - val_dense_5_loss: 1.4714 - val_dense_7_loss: 0.0795 - val_dense_9_loss: 0.1548 - val_dense_1_accuracy: 0.8571 - val_dense_3_accuracy: 1.0000 - val_dense_5_accuracy: 0.8571 - val_dense_7_accuracy: 1.0000 - val_dense_9_accuracy: 1.0000\n",
            "Epoch 51/60\n",
            "7/7 [==============================] - 0s 15ms/step - loss: 0.5517 - dense_1_loss: 0.2714 - dense_3_loss: 0.0323 - dense_5_loss: 0.2451 - dense_7_loss: 0.0021 - dense_9_loss: 8.9720e-04 - dense_1_accuracy: 0.9381 - dense_3_accuracy: 0.9948 - dense_5_accuracy: 0.9330 - dense_7_accuracy: 0.9948 - dense_9_accuracy: 0.9948 - val_loss: 3.3253 - val_dense_1_loss: 1.2765 - val_dense_3_loss: 0.3954 - val_dense_5_loss: 1.4637 - val_dense_7_loss: 0.0694 - val_dense_9_loss: 0.1203 - val_dense_1_accuracy: 0.8163 - val_dense_3_accuracy: 1.0000 - val_dense_5_accuracy: 0.8571 - val_dense_7_accuracy: 1.0000 - val_dense_9_accuracy: 1.0000\n",
            "Epoch 52/60\n",
            "7/7 [==============================] - 0s 14ms/step - loss: 0.5370 - dense_1_loss: 0.2611 - dense_3_loss: 0.0154 - dense_5_loss: 0.2542 - dense_7_loss: 0.0049 - dense_9_loss: 0.0013 - dense_1_accuracy: 0.9175 - dense_3_accuracy: 1.0000 - dense_5_accuracy: 0.9175 - dense_7_accuracy: 0.9948 - dense_9_accuracy: 0.9948 - val_loss: 2.8487 - val_dense_1_loss: 1.1360 - val_dense_3_loss: 0.3460 - val_dense_5_loss: 1.2856 - val_dense_7_loss: 0.0288 - val_dense_9_loss: 0.0523 - val_dense_1_accuracy: 0.7959 - val_dense_3_accuracy: 1.0000 - val_dense_5_accuracy: 0.8776 - val_dense_7_accuracy: 1.0000 - val_dense_9_accuracy: 1.0000\n",
            "Epoch 53/60\n",
            "7/7 [==============================] - 0s 15ms/step - loss: 0.5131 - dense_1_loss: 0.2578 - dense_3_loss: 0.0363 - dense_5_loss: 0.2161 - dense_7_loss: 0.0011 - dense_9_loss: 0.0017 - dense_1_accuracy: 0.9124 - dense_3_accuracy: 0.9948 - dense_5_accuracy: 0.9381 - dense_7_accuracy: 0.9948 - dense_9_accuracy: 0.9948 - val_loss: 2.6319 - val_dense_1_loss: 1.0822 - val_dense_3_loss: 0.2887 - val_dense_5_loss: 1.1970 - val_dense_7_loss: 0.0159 - val_dense_9_loss: 0.0482 - val_dense_1_accuracy: 0.8980 - val_dense_3_accuracy: 1.0000 - val_dense_5_accuracy: 0.8776 - val_dense_7_accuracy: 1.0000 - val_dense_9_accuracy: 1.0000\n",
            "Epoch 54/60\n",
            "7/7 [==============================] - 0s 17ms/step - loss: 0.5262 - dense_1_loss: 0.2253 - dense_3_loss: 0.0462 - dense_5_loss: 0.2522 - dense_7_loss: 3.2017e-04 - dense_9_loss: 0.0021 - dense_1_accuracy: 0.9330 - dense_3_accuracy: 0.9794 - dense_5_accuracy: 0.9021 - dense_7_accuracy: 0.9948 - dense_9_accuracy: 0.9948 - val_loss: 2.5664 - val_dense_1_loss: 1.0514 - val_dense_3_loss: 0.2914 - val_dense_5_loss: 1.1498 - val_dense_7_loss: 0.0214 - val_dense_9_loss: 0.0524 - val_dense_1_accuracy: 0.8980 - val_dense_3_accuracy: 0.9592 - val_dense_5_accuracy: 0.8571 - val_dense_7_accuracy: 1.0000 - val_dense_9_accuracy: 1.0000\n",
            "Epoch 55/60\n",
            "7/7 [==============================] - 0s 13ms/step - loss: 0.5070 - dense_1_loss: 0.1962 - dense_3_loss: 0.0447 - dense_5_loss: 0.2646 - dense_7_loss: 2.5055e-04 - dense_9_loss: 0.0014 - dense_1_accuracy: 0.9588 - dense_3_accuracy: 0.9845 - dense_5_accuracy: 0.8969 - dense_7_accuracy: 0.9948 - dense_9_accuracy: 0.9948 - val_loss: 2.5587 - val_dense_1_loss: 1.0622 - val_dense_3_loss: 0.3006 - val_dense_5_loss: 1.1140 - val_dense_7_loss: 0.0299 - val_dense_9_loss: 0.0519 - val_dense_1_accuracy: 0.8776 - val_dense_3_accuracy: 0.9592 - val_dense_5_accuracy: 0.8571 - val_dense_7_accuracy: 1.0000 - val_dense_9_accuracy: 1.0000\n",
            "Epoch 56/60\n",
            "7/7 [==============================] - 0s 15ms/step - loss: 0.4119 - dense_1_loss: 0.2067 - dense_3_loss: 0.0172 - dense_5_loss: 0.1876 - dense_7_loss: 1.6448e-05 - dense_9_loss: 3.0665e-04 - dense_1_accuracy: 0.9433 - dense_3_accuracy: 1.0000 - dense_5_accuracy: 0.9433 - dense_7_accuracy: 0.9948 - dense_9_accuracy: 0.9948 - val_loss: 2.3327 - val_dense_1_loss: 0.9753 - val_dense_3_loss: 0.2256 - val_dense_5_loss: 1.0770 - val_dense_7_loss: 0.0200 - val_dense_9_loss: 0.0349 - val_dense_1_accuracy: 0.9184 - val_dense_3_accuracy: 1.0000 - val_dense_5_accuracy: 0.9388 - val_dense_7_accuracy: 1.0000 - val_dense_9_accuracy: 1.0000\n",
            "Epoch 57/60\n",
            "7/7 [==============================] - 0s 14ms/step - loss: 0.3590 - dense_1_loss: 0.1954 - dense_3_loss: 0.0146 - dense_5_loss: 0.1471 - dense_7_loss: 0.0015 - dense_9_loss: 4.2086e-04 - dense_1_accuracy: 0.9278 - dense_3_accuracy: 0.9948 - dense_5_accuracy: 0.9794 - dense_7_accuracy: 0.9948 - dense_9_accuracy: 0.9948 - val_loss: 2.1397 - val_dense_1_loss: 0.9114 - val_dense_3_loss: 0.1910 - val_dense_5_loss: 1.0103 - val_dense_7_loss: 0.0082 - val_dense_9_loss: 0.0187 - val_dense_1_accuracy: 0.9184 - val_dense_3_accuracy: 1.0000 - val_dense_5_accuracy: 0.8980 - val_dense_7_accuracy: 1.0000 - val_dense_9_accuracy: 1.0000\n",
            "Epoch 58/60\n",
            "7/7 [==============================] - 0s 13ms/step - loss: 0.3453 - dense_1_loss: 0.1581 - dense_3_loss: 0.0111 - dense_5_loss: 0.1760 - dense_7_loss: 2.2080e-05 - dense_9_loss: 1.0546e-04 - dense_1_accuracy: 0.9485 - dense_3_accuracy: 1.0000 - dense_5_accuracy: 0.9381 - dense_7_accuracy: 0.9948 - dense_9_accuracy: 0.9948 - val_loss: 1.8639 - val_dense_1_loss: 0.7920 - val_dense_3_loss: 0.1524 - val_dense_5_loss: 0.9127 - val_dense_7_loss: 0.0017 - val_dense_9_loss: 0.0051 - val_dense_1_accuracy: 0.9184 - val_dense_3_accuracy: 1.0000 - val_dense_5_accuracy: 0.8367 - val_dense_7_accuracy: 1.0000 - val_dense_9_accuracy: 1.0000\n",
            "Epoch 59/60\n",
            "7/7 [==============================] - 0s 15ms/step - loss: 0.4089 - dense_1_loss: 0.2573 - dense_3_loss: 0.0189 - dense_5_loss: 0.1325 - dense_7_loss: 9.9938e-05 - dense_9_loss: 1.8043e-05 - dense_1_accuracy: 0.9175 - dense_3_accuracy: 1.0000 - dense_5_accuracy: 0.9588 - dense_7_accuracy: 0.9948 - dense_9_accuracy: 0.9948 - val_loss: 1.8619 - val_dense_1_loss: 0.8289 - val_dense_3_loss: 0.1762 - val_dense_5_loss: 0.8556 - val_dense_7_loss: 2.4239e-04 - val_dense_9_loss: 0.0010 - val_dense_1_accuracy: 0.8367 - val_dense_3_accuracy: 0.9592 - val_dense_5_accuracy: 0.8571 - val_dense_7_accuracy: 1.0000 - val_dense_9_accuracy: 1.0000\n",
            "Epoch 60/60\n",
            "7/7 [==============================] - 0s 16ms/step - loss: 0.3492 - dense_1_loss: 0.2080 - dense_3_loss: 0.0153 - dense_5_loss: 0.1257 - dense_7_loss: 1.2480e-04 - dense_9_loss: 9.2782e-05 - dense_1_accuracy: 0.9433 - dense_3_accuracy: 1.0000 - dense_5_accuracy: 0.9897 - dense_7_accuracy: 0.9948 - dense_9_accuracy: 0.9948 - val_loss: 1.6873 - val_dense_1_loss: 0.7688 - val_dense_3_loss: 0.1293 - val_dense_5_loss: 0.7859 - val_dense_7_loss: 3.6242e-04 - val_dense_9_loss: 0.0030 - val_dense_1_accuracy: 0.8571 - val_dense_3_accuracy: 1.0000 - val_dense_5_accuracy: 0.8776 - val_dense_7_accuracy: 1.0000 - val_dense_9_accuracy: 1.0000\n"
          ]
        }
      ]
    },
    {
      "cell_type": "code",
      "metadata": {
        "id": "J_eXJ_nHn3vm",
        "colab": {
          "base_uri": "https://localhost:8080/",
          "height": 279
        },
        "outputId": "947993db-bbe8-4514-b687-10f4e5f7806c"
      },
      "source": [
        "#graph of loss vs epochs\n",
        "for label in [\"loss\"]:\n",
        "  plt.plot(hist.history[label],label=label)\n",
        "plt.legend()\n",
        "plt.xlabel(\"Epochs\")\n",
        "plt.ylabel(\"Loss\")\n",
        "plt.show()"
      ],
      "execution_count": 13,
      "outputs": [
        {
          "output_type": "display_data",
          "data": {
            "text/plain": [
              "<Figure size 432x288 with 1 Axes>"
            ],
            "image/png": "[encoded data removed]"
          },
          "metadata": {
            "needs_background": "light"
          }
        }
      ]
    },
    {
      "cell_type": "code",
      "source": [
        "# Check all Possible Graphs That we can generate from data\n",
        "hist.history.keys()"
      ],
      "metadata": {
        "colab": {
          "base_uri": "https://localhost:8080/"
        },
        "id": "5dJKfIDPETQV",
        "outputId": "19affd9f-5c96-47e1-e0e7-bbf350c64838"
      },
      "execution_count": 15,
      "outputs": [
        {
          "output_type": "execute_result",
          "data": {
            "text/plain": [
              "dict_keys(['loss', 'dense_1_loss', 'dense_3_loss', 'dense_5_loss', 'dense_7_loss', 'dense_9_loss', 'dense_1_accuracy', 'dense_3_accuracy', 'dense_5_accuracy', 'dense_7_accuracy', 'dense_9_accuracy', 'val_loss', 'val_dense_1_loss', 'val_dense_3_loss', 'val_dense_5_loss', 'val_dense_7_loss', 'val_dense_9_loss', 'val_dense_1_accuracy', 'val_dense_3_accuracy', 'val_dense_5_accuracy', 'val_dense_7_accuracy', 'val_dense_9_accuracy'])"
            ]
          },
          "metadata": {},
          "execution_count": 15
        }
      ]
    },
    {
      "cell_type": "code",
      "metadata": {
        "id": "8GzdROYcrfKK",
        "colab": {
          "base_uri": "https://localhost:8080/",
          "height": 279
        },
        "outputId": "59797df3-a1f5-44c6-cb0c-a9d11e878ba6"
      },
      "source": [
        "#graph of accuracy of dense_1 vs epochs\n",
        "for label in [\"val_dense_1_accuracy\"]:\n",
        "  plt.plot(hist.history[label],label=label)\n",
        "plt.legend()\n",
        "plt.xlabel(\"Epochs\")\n",
        "plt.ylabel(\"Accuracy of Dense 1 layer\")\n",
        "plt.show()"
      ],
      "execution_count": 16,
      "outputs": [
        {
          "output_type": "display_data",
          "data": {
            "text/plain": [
              "<Figure size 432x288 with 1 Axes>"
            ],
            "image/png": "[encoded data removed]"
          },
          "metadata": {
            "needs_background": "light"
          }
        }
      ]
    },
    {
      "cell_type": "code",
      "metadata": {
        "id": "mMVFmMhSrLJ0",
        "colab": {
          "base_uri": "https://localhost:8080/",
          "height": 279
        },
        "outputId": "175a9b07-8681-4ed9-f438-aa34f486be62"
      },
      "source": [
        "#graph of accuracy of dense_3 vs epochs\n",
        "for label in [\"val_dense_3_accuracy\"]:\n",
        "  plt.plot(hist.history[label],label=label)\n",
        "plt.legend()\n",
        "plt.xlabel(\"Epochs\")\n",
        "plt.ylabel(\"Accuracy of Dense 3 layer\")\n",
        "plt.show()"
      ],
      "execution_count": 17,
      "outputs": [
        {
          "output_type": "display_data",
          "data": {
            "text/plain": [
              "<Figure size 432x288 with 1 Axes>"
            ],
            "image/png": "[encoded data removed]"
          },
          "metadata": {
            "needs_background": "light"
          }
        }
      ]
    },
    {
      "cell_type": "code",
      "metadata": {
        "id": "jrqRkg8mrlfI",
        "colab": {
          "base_uri": "https://localhost:8080/",
          "height": 279
        },
        "outputId": "3c7ff179-4a7d-4dab-cd1a-082d97ce49ce"
      },
      "source": [
        "#graph of accuracy of dense_5 vs epochs\n",
        "for label in [\"val_dense_5_accuracy\"]:\n",
        "  plt.plot(hist.history[label],label=label)\n",
        "plt.legend()\n",
        "plt.xlabel(\"Epochs\")\n",
        "plt.ylabel(\"Accuracy of Dense 5 layer\")\n",
        "plt.show()"
      ],
      "execution_count": 18,
      "outputs": [
        {
          "output_type": "display_data",
          "data": {
            "text/plain": [
              "<Figure size 432x288 with 1 Axes>"
            ],
            "image/png": "[encoded data removed]"
          },
          "metadata": {
            "needs_background": "light"
          }
        }
      ]
    },
    {
      "cell_type": "code",
      "metadata": {
        "id": "cL-VHKEyrqbu",
        "colab": {
          "base_uri": "https://localhost:8080/",
          "height": 279
        },
        "outputId": "59b8063d-cad0-45f3-b1ca-700bef17898f"
      },
      "source": [
        "#graph of accuracy of dense_7 vs epochs\n",
        "for label in [\"val_dense_7_accuracy\"]:\n",
        "  plt.plot(hist.history[label],label=label)\n",
        "plt.legend()\n",
        "plt.xlabel(\"Epochs\")\n",
        "plt.ylabel(\"Accuracy of Dense 7 layer\")\n",
        "plt.show()"
      ],
      "execution_count": 19,
      "outputs": [
        {
          "output_type": "display_data",
          "data": {
            "text/plain": [
              "<Figure size 432x288 with 1 Axes>"
            ],
            "image/png": "[encoded data removed]"
          },
          "metadata": {
            "needs_background": "light"
          }
        }
      ]
    },
    {
      "cell_type": "code",
      "metadata": {
        "id": "nWZ6OlO_HtR-",
        "colab": {
          "base_uri": "https://localhost:8080/"
        },
        "outputId": "72b7b90a-5aaf-4837-808b-aa971410b537"
      },
      "source": [
        "# Loss on training set\n",
        "# Finding Loss on training set\n",
        "preds = model.evaluate(X_train, [y_train[0], y_train[1], y_train[2], y_train[3], y_train[4]])\n",
        "print (\"Loss on training set= \" + str(preds[0]))"
      ],
      "execution_count": 20,
      "outputs": [
        {
          "output_type": "stream",
          "name": "stdout",
          "text": [
            "8/8 [==============================] - 0s 15ms/step - loss: 0.9037 - dense_1_loss: 0.4190 - dense_3_loss: 0.0842 - dense_5_loss: 0.3972 - dense_7_loss: 3.4632e-04 - dense_9_loss: 0.0031 - dense_1_accuracy: 0.9712 - dense_3_accuracy: 1.0000 - dense_5_accuracy: 0.9753 - dense_7_accuracy: 0.9959 - dense_9_accuracy: 0.9959\n",
            "Loss on training set= 0.9037339091300964\n"
          ]
        }
      ]
    },
    {
      "cell_type": "code",
      "metadata": {
        "id": "y7n1eoTVH728",
        "colab": {
          "base_uri": "https://localhost:8080/"
        },
        "outputId": "2de400ae-de2a-4506-8222-75de0ba513a9"
      },
      "source": [
        "#Finding loss on test set, Will be Same Because of same samples as training set\n",
        "preds = model.evaluate(X_test, [y_test[0], y_test[1], y_test[2], y_test[3], y_test[4]])\n",
        "print (\"Loss on testing set= \" + str(preds[0]))"
      ],
      "execution_count": 29,
      "outputs": [
        {
          "output_type": "stream",
          "name": "stdout",
          "text": [
            "8/8 [==============================] - 0s 6ms/step - loss: 0.9037 - dense_1_loss: 0.4190 - dense_3_loss: 0.0842 - dense_5_loss: 0.3972 - dense_7_loss: 3.4632e-04 - dense_9_loss: 0.0031 - dense_1_accuracy: 0.9712 - dense_3_accuracy: 1.0000 - dense_5_accuracy: 0.9753 - dense_7_accuracy: 0.9959 - dense_9_accuracy: 0.9959\n",
            "Loss on testing set= 0.9037339091300964\n"
          ]
        }
      ]
    },
    {
      "cell_type": "code",
      "metadata": {
        "id": "I_35fIjvwTp6"
      },
      "source": [
        "#to predict captcha\n",
        "def predict(filepath):\n",
        "    img = cv2.imread(filepath, cv2.IMREAD_GRAYSCALE)\n",
        "\n",
        "    if img is not None: #image found at file path\n",
        "        img = img / 255.0 #Scale image\n",
        "    else:\n",
        "        print(\"Not detected\")\n",
        "        return False\n",
        "\n",
        "    res = np.array(model.predict(img[np.newaxis, :, :, np.newaxis])) #np.newaxis=1 \n",
        "    #added this bcoz x_train 243*25*65*1\n",
        "    #returns array of size 1*5*14 \n",
        "    result = np.reshape(res, (5, 14)) #reshape the array\n",
        "    k_ind = []\n",
        "    probs = []\n",
        "    for i in result:\n",
        "        k_ind.append(np.argmax(i)) #adds the index of the char found in captcha\n",
        "\n",
        "    capt = '' #string to store predicted captcha\n",
        "    for k in k_ind:\n",
        "        capt += character[k] #finds the char corresponding to the index\n",
        "    \n",
        "    if not capt:\n",
        "        return False\n",
        "    else:\n",
        "        # Removing the ? from the end to get mathematical equation\n",
        "        cleaned_captcha_characters = capt.split(\"=\")[0]\n",
        "\n",
        "        # Replacing ? from operator because * is too much noisy and model,\n",
        "        # is predicting ? for * operator most of the time\n",
        "        cleaned_captcha_characters = cleaned_captcha_characters.replace('?','*')\n",
        "\n",
        "        # Solve the Mathematical Equation to get the result\n",
        "        result = eval(cleaned_captcha_characters)\n",
        "        \n",
        "        return {\"captcha_characters\": cleaned_captcha_characters, \"result\": result}"
      ],
      "execution_count": 25,
      "outputs": []
    },
    {
      "cell_type": "code",
      "metadata": {
        "id": "RYKQY-HL1aU4",
        "colab": {
          "base_uri": "https://localhost:8080/",
          "height": 195
        },
        "outputId": "90fd7deb-fd8a-4bcd-8270-233a4743fc6b"
      },
      "source": [
        "#Check model on samples\n",
        "img=cv2.imread('/content/drive/My Drive/all_captcha_images/0x5=j.jpg',cv2.IMREAD_GRAYSCALE)\n",
        "plt.imshow(img, cmap=plt.get_cmap('gray'))\n"
      ],
      "execution_count": 23,
      "outputs": [
        {
          "output_type": "execute_result",
          "data": {
            "text/plain": [
              "<matplotlib.image.AxesImage at 0x7f57612f0450>"
            ]
          },
          "metadata": {},
          "execution_count": 23
        },
        {
          "output_type": "display_data",
          "data": {
            "text/plain": [
              "<Figure size 432x288 with 1 Axes>"
            ],
            "image/png": "[encoded data removed]"
          },
          "metadata": {
            "needs_background": "light"
          }
        }
      ]
    },
    {
      "cell_type": "code",
      "metadata": {
        "id": "jMDiviFF3UOr",
        "colab": {
          "base_uri": "https://localhost:8080/"
        },
        "outputId": "1baa0783-7a7d-47b2-a5be-ec14a574f6fa"
      },
      "source": [
        "print(\"Predicted Captcha =\",predict('/content/drive/My Drive/all_captcha_images/0x5=j.jpg'))"
      ],
      "execution_count": 30,
      "outputs": [
        {
          "output_type": "stream",
          "name": "stdout",
          "text": [
            "Predicted Captcha = {'captcha_characters': '0*5', 'result': 0}\n"
          ]
        }
      ]
    },
    {
      "cell_type": "code",
      "metadata": {
        "id": "cnwJn3lF3Xo8",
        "colab": {
          "base_uri": "https://localhost:8080/",
          "height": 195
        },
        "outputId": "bb089aad-3381-4a7f-8758-9fa2807a8ff0"
      },
      "source": [
        "#Sample 2\n",
        "img=cv2.imread('/content/drive/My Drive/all_captcha_images/5-7=j.jpg',cv2.IMREAD_GRAYSCALE)\n",
        "plt.imshow(img, cmap=plt.get_cmap('gray'))"
      ],
      "execution_count": 27,
      "outputs": [
        {
          "output_type": "execute_result",
          "data": {
            "text/plain": [
              "<matplotlib.image.AxesImage at 0x7f57622ac3d0>"
            ]
          },
          "metadata": {},
          "execution_count": 27
        },
        {
          "output_type": "display_data",
          "data": {
            "text/plain": [
              "<Figure size 432x288 with 1 Axes>"
            ],
            "image/png": "[encoded data removed]"
          },
          "metadata": {
            "needs_background": "light"
          }
        }
      ]
    },
    {
      "cell_type": "code",
      "metadata": {
        "id": "ww--A_T63cJx",
        "colab": {
          "base_uri": "https://localhost:8080/"
        },
        "outputId": "d98fb942-8202-4684-c5d4-722bc28b380f"
      },
      "source": [
        "print(\"Predicted Captcha =\",predict('/content/drive/My Drive/all_captcha_images/5-7=j.jpg'))"
      ],
      "execution_count": 28,
      "outputs": [
        {
          "output_type": "stream",
          "name": "stdout",
          "text": [
            "Predicted Captcha = {'captcha_characters': '5-7', 'result': -2}\n"
          ]
        }
      ]
    },
    {
      "cell_type": "code",
      "source": [
        "#Saving the model\n",
        "model.save('/content/drive/My Drive/Captcha_Solver/Captcha_Model')"
      ],
      "metadata": {
        "colab": {
          "base_uri": "https://localhost:8080/"
        },
        "id": "EIIO0HShI0AN",
        "outputId": "c1171a0b-05b8-4bba-cc92-13486e1d41f6"
      },
      "execution_count": 33,
      "outputs": [
        {
          "output_type": "stream",
          "name": "stdout",
          "text": [
            "INFO:tensorflow:Assets written to: /content/drive/My Drive/Captcha_Solver/Captcha_Model/assets\n"
          ]
        }
      ]
    },
    {
      "cell_type": "code",
      "source": [
        "# Load the Saved Model\n",
        "loaded_model = load_model('/content/drive/My Drive/Captcha_Solver/Captcha_Model')"
      ],
      "metadata": {
        "id": "KH8SQE1GT8qQ"
      },
      "execution_count": 34,
      "outputs": []
    }
  ]
}